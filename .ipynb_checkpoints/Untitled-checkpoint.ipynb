{
 "cells": [
  {
   "cell_type": "code",
   "execution_count": 3,
   "id": "127e61ab-8803-4fcd-b808-07c2c29cca5c",
   "metadata": {},
   "outputs": [],
   "source": [
    "import matplotlib.pyplot as plt\n",
    "import numpy as np\n",
    "import pandas as pd"
   ]
  },
  {
   "cell_type": "code",
   "execution_count": 4,
   "id": "46454eea-347f-4d97-9c7f-ef6b63da9524",
   "metadata": {},
   "outputs": [],
   "source": [
    "# M01_DC_train = pd.read_csv(\"../phm_etching_01M01-02/01_M01_DC_train.csv\", encoding=\"utf8\")\n",
    "M01_DC_train_ttf = pd.read_csv(\"../phm_etching_01M01-02/01_M01_DC_train_ttf.csv\", encoding=\"utf8\")"
   ]
  },
  {
   "cell_type": "code",
   "execution_count": null,
   "id": "dd8d3071-ea09-47f0-b3e0-9bf891ce39eb",
   "metadata": {},
   "outputs": [
    {
     "name": "stdout",
     "output_type": "stream",
     "text": [
      "Index(['time', 'Tool', 'stage', 'Lot', 'runnum', 'recipe', 'recipe_step',\n",
      "       'IONGAUGEPRESSURE', 'ETCHBEAMVOLTAGE', 'ETCHBEAMCURRENT',\n",
      "       'ETCHSUPPRESSORVOLTAGE', 'ETCHSUPPRESSORCURRENT', 'FLOWCOOLFLOWRATE',\n",
      "       'FLOWCOOLPRESSURE', 'ETCHGASCHANNEL1READBACK', 'ETCHPBNGASREADBACK',\n",
      "       'FIXTURETILTANGLE', 'ROTATIONSPEED', 'ACTUALROTATIONANGLE',\n",
      "       'FIXTURESHUTTERPOSITION', 'ETCHSOURCEUSAGE', 'ETCHAUXSOURCETIMER',\n",
      "       'ETCHAUX2SOURCETIMER', 'ACTUALSTEPDURATION'],\n",
      "      dtype='object')\n"
     ]
    }
   ],
   "source": [
    "print(M01_DC_train_ttf.columns)\n",
    "\n",
    "# plt.plot(M01_DC_train_ttf.loc[:100, 'IONGAUGEPRESSURE'])\n",
    "# plt.show()"
   ]
  }
 ],
 "metadata": {
  "kernelspec": {
   "display_name": "Python 3",
   "language": "python",
   "name": "python3"
  },
  "language_info": {
   "codemirror_mode": {
    "name": "ipython",
    "version": 3
   },
   "file_extension": ".py",
   "mimetype": "text/x-python",
   "name": "python",
   "nbconvert_exporter": "python",
   "pygments_lexer": "ipython3",
   "version": "3.8.10"
  }
 },
 "nbformat": 4,
 "nbformat_minor": 5
}
