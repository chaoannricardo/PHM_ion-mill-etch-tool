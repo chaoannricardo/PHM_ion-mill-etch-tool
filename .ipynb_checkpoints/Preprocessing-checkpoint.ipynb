{
 "cells": [
  {
   "cell_type": "markdown",
   "id": "9b8ddc4e",
   "metadata": {},
   "source": [
    "# Merging train data and ttf data & split by Lot_runnum"
   ]
  },
  {
   "cell_type": "code",
   "execution_count": 1,
   "id": "ee567a6d",
   "metadata": {},
   "outputs": [],
   "source": [
    "from tqdm import tqdm\n",
    "import numpy as np\n",
    "import pandas as pd"
   ]
  },
  {
   "cell_type": "code",
   "execution_count": 2,
   "id": "d01313ce",
   "metadata": {},
   "outputs": [],
   "source": [
    "# data M01\n",
    "# data_M02_train = pd.read_csv(\"../phm_etching_01M01-02/01_M01_DC_train.csv\",\n",
    "#                             encoding=\"utf8\")\n",
    "\n",
    "# data_M02_ttf = pd.read_csv(\"../phm_etching_01M01-02/01_M01_DC_train_ttf.csv\",\n",
    "#                             encoding=\"utf8\")\n",
    "\n",
    "# data M02\n",
    "data_M02_train = pd.read_csv(\"../phm_etching_01M01-02/01_M02_DC_train.csv\",\n",
    "                            encoding=\"utf8\")\n",
    "\n",
    "data_M02_ttf = pd.read_csv(\"../phm_etching_01M01-02/01_M02_DC_train_ttf.csv\",\n",
    "                            encoding=\"utf8\")"
   ]
  },
  {
   "cell_type": "code",
   "execution_count": 3,
   "id": "00deede9",
   "metadata": {},
   "outputs": [
    {
     "name": "stdout",
     "output_type": "stream",
     "text": [
      "5110542 5110542 5110317\n",
      "Index(['time', 'Tool', 'stage', 'Lot', 'runnum', 'recipe', 'recipe_step',\n",
      "       'IONGAUGEPRESSURE', 'ETCHBEAMVOLTAGE', 'ETCHBEAMCURRENT',\n",
      "       'ETCHSUPPRESSORVOLTAGE', 'ETCHSUPPRESSORCURRENT', 'FLOWCOOLFLOWRATE',\n",
      "       'FLOWCOOLPRESSURE', 'ETCHGASCHANNEL1READBACK', 'ETCHPBNGASREADBACK',\n",
      "       'FIXTURETILTANGLE', 'ROTATIONSPEED', 'ACTUALROTATIONANGLE',\n",
      "       'FIXTURESHUTTERPOSITION', 'ETCHSOURCEUSAGE', 'ETCHAUXSOURCETIMER',\n",
      "       'ETCHAUX2SOURCETIMER', 'ACTUALSTEPDURATION',\n",
      "       'TTF_FlowCool Pressure Dropped Below Limit',\n",
      "       'TTF_Flowcool Pressure Too High Check Flowcool Pump',\n",
      "       'TTF_Flowcool leak'],\n",
      "      dtype='object')\n"
     ]
    }
   ],
   "source": [
    "data_M02 = data_M02_train.merge(data_M02_ttf, left_on=\"time\", right_on=\"time\", how=\"left\")\n",
    "data_M02.drop_duplicates(inplace=True)\n",
    "\n",
    "print(len(data_M02_train), len(data_M02_ttf), len(data_M02))\n",
    "print(data_M02.columns)"
   ]
  },
  {
   "cell_type": "code",
   "execution_count": 4,
   "id": "14da4748",
   "metadata": {},
   "outputs": [
    {
     "name": "stdout",
     "output_type": "stream",
     "text": [
      "[(66, 1443451), (67, 2716805), (68, 593630), (69, 218064), (70, 11731), (71, 40770), (72, 20474), (73, 33829), (74, 17062), (75, 1634), (76, 11793), (77, 1074)]\n"
     ]
    }
   ],
   "source": [
    "from collections import Counter\n",
    "\n",
    "temp_list = data_M02[\"recipe\"].tolist()\n",
    "temp_list.sort()\n",
    "\n",
    "print(sorted(Counter(temp_list).items()))"
   ]
  },
  {
   "cell_type": "code",
   "execution_count": 5,
   "id": "5e8624da",
   "metadata": {},
   "outputs": [
    {
     "name": "stdout",
     "output_type": "stream",
     "text": [
      "13\n",
      "9253-10511673\n"
     ]
    }
   ],
   "source": [
    "data_M02[\"Lot-runnum\"] = data_M02[\"Lot\"].apply(lambda x: str(x)) + \"-\" +\\\n",
    "data_M02[\"runnum\"].apply(lambda x: str(x))\n",
    "data_M02[\"recipe\"].apply(lambda x: int(np.around(x, decimals=0)))\n",
    "data_M02 = data_M02[data_M02[\"recipe\"] == 67]\n",
    "\n",
    "print(len(data_M02.loc[0, \"Lot-runnum\"]))\n",
    "print(data_M02.loc[0, \"Lot-runnum\"])"
   ]
  },
  {
   "cell_type": "code",
   "execution_count": 6,
   "id": "fb14f6f9",
   "metadata": {},
   "outputs": [
    {
     "name": "stderr",
     "output_type": "stream",
     "text": [
      "100%|██████████| 1670/1670 [00:55<00:00, 30.16it/s]\n"
     ]
    }
   ],
   "source": [
    "data_grouped  = data_M02.groupby(data_M02[\"Lot-runnum\"])\n",
    "\n",
    "# print(data_grouped.get_group(\"9253_10511673\"))\n",
    "\n",
    "for group in tqdm(data_grouped.groups.keys()):    \n",
    "    data_export = data_grouped.get_group(group)\n",
    "    \n",
    "    # data M01\n",
    "#     data_export.to_csv(\"../phm_etching_01M01-02/M01_Groups/Lot_runnum_\" + str(group) + \".csv\",\n",
    "#                       index=None, encoding=\"utf8\")\n",
    "    \n",
    "    # data M02\n",
    "    data_export.to_csv(\"../phm_etching_01M01-02/M02_Groups_recipe_67/Lot_runnum_\" + str(group) + \".csv\",\n",
    "                      index=None, encoding=\"utf8\")"
   ]
  },
  {
   "cell_type": "markdown",
   "id": "6f7bbc22",
   "metadata": {},
   "source": [
    "# Transform all data length to be same\n",
    "\n",
    "* Reference:\n",
    "  * https://docs.scipy.org/doc/scipy/reference/generated/scipy.signal.resample.html\n",
    "  * https://docs.scipy.org/doc/scipy/reference/tutorial/interpolate.html\n",
    "  "
   ]
  },
  {
   "cell_type": "code",
   "execution_count": 7,
   "id": "53fce3d1",
   "metadata": {},
   "outputs": [],
   "source": [
    "from scipy.interpolate import interp1d\n",
    "from scipy import signal\n",
    "from tqdm import tqdm\n",
    "import codecs\n",
    "import collections\n",
    "import matplotlib.pyplot as plt\n",
    "import numpy as np\n",
    "import os\n",
    "import pandas as pd\n",
    "import scipy"
   ]
  },
  {
   "cell_type": "code",
   "execution_count": 8,
   "id": "a8e92ed6",
   "metadata": {},
   "outputs": [
    {
     "name": "stderr",
     "output_type": "stream",
     "text": [
      "100%|██████████| 1670/1670 [00:22<00:00, 72.83it/s]\n"
     ]
    }
   ],
   "source": [
    "length_list = []\n",
    "length_dict = {}\n",
    "\n",
    "# dir_path = \"../phm_etching_01M01-02/M01_Groups/\"\n",
    "dir_path = \"../phm_etching_01M01-02/M02_Groups_recipe_67/\"\n",
    "\n",
    "for file in tqdm(os.listdir(dir_path)):\n",
    "    data_temp = pd.read_csv(dir_path + file)\n",
    "    length_list.append(len(data_temp))\n",
    "    length_dict[file] = len(data_temp)"
   ]
  },
  {
   "cell_type": "code",
   "execution_count": 9,
   "id": "4a453814",
   "metadata": {},
   "outputs": [
    {
     "name": "stdout",
     "output_type": "stream",
     "text": [
      "The most frequent length are: [1472, 1471, 1473, 1469, 1470]\n"
     ]
    }
   ],
   "source": [
    "# find data length with highest frequency\n",
    "# https://stackoverflow.com/questions/613183/how-do-i-sort-a-dictionary-by-value\n",
    "\n",
    "counter_dict = collections.Counter(length_list)\n",
    "counter_dict =  dict(sorted(counter_dict.items(), key=lambda item: item[1], reverse=True))\n",
    "most_frequent_length = list(counter_dict.keys())[0]\n",
    "print(\"The most frequent length are:\", list(counter_dict.keys())[0:5])"
   ]
  },
  {
   "cell_type": "code",
   "execution_count": 10,
   "id": "a7e1113a",
   "metadata": {},
   "outputs": [],
   "source": [
    "# read in fault data for refactor\n",
    "\n",
    "# fault_data = \"../phm_etching_01M01-02/01_M01_train_fault_data.csv\"\n",
    "fault_data = \"../phm_etching_01M01-02/01_M02_train_fault_data.csv\"\n",
    "\n",
    "data_fault = pd.read_csv(fault_data,\n",
    "                        encoding=\"utf8\")\n",
    "\n",
    "fualt_time_list = data_fault.loc[:, \"time\"].tolist()\n",
    "fault_name_list = data_fault.loc[:, \"fault_name\"].tolist()"
   ]
  },
  {
   "cell_type": "code",
   "execution_count": 12,
   "id": "6ea05e10",
   "metadata": {},
   "outputs": [
    {
     "name": "stderr",
     "output_type": "stream",
     "text": [
      "0it [00:00, ?it/s]\n"
     ]
    },
    {
     "ename": "ValueError",
     "evalue": "Length of values (1472) does not match length of index (1005)",
     "output_type": "error",
     "traceback": [
      "\u001b[1;31m---------------------------------------------------------------------------\u001b[0m",
      "\u001b[1;31mValueError\u001b[0m                                Traceback (most recent call last)",
      "\u001b[1;32m<ipython-input-12-e557f18c6bbd>\u001b[0m in \u001b[0;36m<module>\u001b[1;34m\u001b[0m\n\u001b[0;32m     33\u001b[0m         \u001b[1;32mif\u001b[0m \u001b[0mcolumn\u001b[0m \u001b[1;32min\u001b[0m \u001b[1;33m[\u001b[0m\u001b[1;34m\"time\"\u001b[0m\u001b[1;33m,\u001b[0m \u001b[1;34m\"Tool\"\u001b[0m\u001b[1;33m,\u001b[0m \u001b[1;34m\"Lot-runnum\"\u001b[0m\u001b[1;33m]\u001b[0m\u001b[1;33m:\u001b[0m\u001b[1;33m\u001b[0m\u001b[1;33m\u001b[0m\u001b[0m\n\u001b[0;32m     34\u001b[0m             \u001b[1;32mcontinue\u001b[0m\u001b[1;33m\u001b[0m\u001b[1;33m\u001b[0m\u001b[0m\n\u001b[1;32m---> 35\u001b[1;33m         \u001b[0mdata_export\u001b[0m\u001b[1;33m[\u001b[0m\u001b[0mcolumn\u001b[0m\u001b[1;33m]\u001b[0m \u001b[1;33m=\u001b[0m \u001b[0msignal\u001b[0m\u001b[1;33m.\u001b[0m\u001b[0mresample\u001b[0m\u001b[1;33m(\u001b[0m\u001b[0mdata_temp\u001b[0m\u001b[1;33m.\u001b[0m\u001b[0mloc\u001b[0m\u001b[1;33m[\u001b[0m\u001b[1;33m:\u001b[0m\u001b[1;33m,\u001b[0m \u001b[0mcolumn\u001b[0m\u001b[1;33m]\u001b[0m\u001b[1;33m,\u001b[0m \u001b[0mnum\u001b[0m\u001b[1;33m=\u001b[0m\u001b[0mmost_frequent_length\u001b[0m\u001b[1;33m)\u001b[0m\u001b[1;33m\u001b[0m\u001b[1;33m\u001b[0m\u001b[0m\n\u001b[0m\u001b[0;32m     36\u001b[0m \u001b[1;33m\u001b[0m\u001b[0m\n\u001b[0;32m     37\u001b[0m     \u001b[1;31m# check which fault type is the data\u001b[0m\u001b[1;33m\u001b[0m\u001b[1;33m\u001b[0m\u001b[1;33m\u001b[0m\u001b[0m\n",
      "\u001b[1;32mc:\\users\\user\\anaconda3\\envs\\nlp\\lib\\site-packages\\pandas\\core\\frame.py\u001b[0m in \u001b[0;36m__setitem__\u001b[1;34m(self, key, value)\u001b[0m\n\u001b[0;32m   3161\u001b[0m         \u001b[1;32melse\u001b[0m\u001b[1;33m:\u001b[0m\u001b[1;33m\u001b[0m\u001b[1;33m\u001b[0m\u001b[0m\n\u001b[0;32m   3162\u001b[0m             \u001b[1;31m# set column\u001b[0m\u001b[1;33m\u001b[0m\u001b[1;33m\u001b[0m\u001b[1;33m\u001b[0m\u001b[0m\n\u001b[1;32m-> 3163\u001b[1;33m             \u001b[0mself\u001b[0m\u001b[1;33m.\u001b[0m\u001b[0m_set_item\u001b[0m\u001b[1;33m(\u001b[0m\u001b[0mkey\u001b[0m\u001b[1;33m,\u001b[0m \u001b[0mvalue\u001b[0m\u001b[1;33m)\u001b[0m\u001b[1;33m\u001b[0m\u001b[1;33m\u001b[0m\u001b[0m\n\u001b[0m\u001b[0;32m   3164\u001b[0m \u001b[1;33m\u001b[0m\u001b[0m\n\u001b[0;32m   3165\u001b[0m     \u001b[1;32mdef\u001b[0m \u001b[0m_setitem_slice\u001b[0m\u001b[1;33m(\u001b[0m\u001b[0mself\u001b[0m\u001b[1;33m,\u001b[0m \u001b[0mkey\u001b[0m\u001b[1;33m:\u001b[0m \u001b[0mslice\u001b[0m\u001b[1;33m,\u001b[0m \u001b[0mvalue\u001b[0m\u001b[1;33m)\u001b[0m\u001b[1;33m:\u001b[0m\u001b[1;33m\u001b[0m\u001b[1;33m\u001b[0m\u001b[0m\n",
      "\u001b[1;32mc:\\users\\user\\anaconda3\\envs\\nlp\\lib\\site-packages\\pandas\\core\\frame.py\u001b[0m in \u001b[0;36m_set_item\u001b[1;34m(self, key, value)\u001b[0m\n\u001b[0;32m   3240\u001b[0m         \"\"\"\n\u001b[0;32m   3241\u001b[0m         \u001b[0mself\u001b[0m\u001b[1;33m.\u001b[0m\u001b[0m_ensure_valid_index\u001b[0m\u001b[1;33m(\u001b[0m\u001b[0mvalue\u001b[0m\u001b[1;33m)\u001b[0m\u001b[1;33m\u001b[0m\u001b[1;33m\u001b[0m\u001b[0m\n\u001b[1;32m-> 3242\u001b[1;33m         \u001b[0mvalue\u001b[0m \u001b[1;33m=\u001b[0m \u001b[0mself\u001b[0m\u001b[1;33m.\u001b[0m\u001b[0m_sanitize_column\u001b[0m\u001b[1;33m(\u001b[0m\u001b[0mkey\u001b[0m\u001b[1;33m,\u001b[0m \u001b[0mvalue\u001b[0m\u001b[1;33m)\u001b[0m\u001b[1;33m\u001b[0m\u001b[1;33m\u001b[0m\u001b[0m\n\u001b[0m\u001b[0;32m   3243\u001b[0m         \u001b[0mNDFrame\u001b[0m\u001b[1;33m.\u001b[0m\u001b[0m_set_item\u001b[0m\u001b[1;33m(\u001b[0m\u001b[0mself\u001b[0m\u001b[1;33m,\u001b[0m \u001b[0mkey\u001b[0m\u001b[1;33m,\u001b[0m \u001b[0mvalue\u001b[0m\u001b[1;33m)\u001b[0m\u001b[1;33m\u001b[0m\u001b[1;33m\u001b[0m\u001b[0m\n\u001b[0;32m   3244\u001b[0m \u001b[1;33m\u001b[0m\u001b[0m\n",
      "\u001b[1;32mc:\\users\\user\\anaconda3\\envs\\nlp\\lib\\site-packages\\pandas\\core\\frame.py\u001b[0m in \u001b[0;36m_sanitize_column\u001b[1;34m(self, key, value, broadcast)\u001b[0m\n\u001b[0;32m   3897\u001b[0m \u001b[1;33m\u001b[0m\u001b[0m\n\u001b[0;32m   3898\u001b[0m             \u001b[1;31m# turn me into an ndarray\u001b[0m\u001b[1;33m\u001b[0m\u001b[1;33m\u001b[0m\u001b[1;33m\u001b[0m\u001b[0m\n\u001b[1;32m-> 3899\u001b[1;33m             \u001b[0mvalue\u001b[0m \u001b[1;33m=\u001b[0m \u001b[0msanitize_index\u001b[0m\u001b[1;33m(\u001b[0m\u001b[0mvalue\u001b[0m\u001b[1;33m,\u001b[0m \u001b[0mself\u001b[0m\u001b[1;33m.\u001b[0m\u001b[0mindex\u001b[0m\u001b[1;33m)\u001b[0m\u001b[1;33m\u001b[0m\u001b[1;33m\u001b[0m\u001b[0m\n\u001b[0m\u001b[0;32m   3900\u001b[0m             \u001b[1;32mif\u001b[0m \u001b[1;32mnot\u001b[0m \u001b[0misinstance\u001b[0m\u001b[1;33m(\u001b[0m\u001b[0mvalue\u001b[0m\u001b[1;33m,\u001b[0m \u001b[1;33m(\u001b[0m\u001b[0mnp\u001b[0m\u001b[1;33m.\u001b[0m\u001b[0mndarray\u001b[0m\u001b[1;33m,\u001b[0m \u001b[0mIndex\u001b[0m\u001b[1;33m)\u001b[0m\u001b[1;33m)\u001b[0m\u001b[1;33m:\u001b[0m\u001b[1;33m\u001b[0m\u001b[1;33m\u001b[0m\u001b[0m\n\u001b[0;32m   3901\u001b[0m                 \u001b[1;32mif\u001b[0m \u001b[0misinstance\u001b[0m\u001b[1;33m(\u001b[0m\u001b[0mvalue\u001b[0m\u001b[1;33m,\u001b[0m \u001b[0mlist\u001b[0m\u001b[1;33m)\u001b[0m \u001b[1;32mand\u001b[0m \u001b[0mlen\u001b[0m\u001b[1;33m(\u001b[0m\u001b[0mvalue\u001b[0m\u001b[1;33m)\u001b[0m \u001b[1;33m>\u001b[0m \u001b[1;36m0\u001b[0m\u001b[1;33m:\u001b[0m\u001b[1;33m\u001b[0m\u001b[1;33m\u001b[0m\u001b[0m\n",
      "\u001b[1;32mc:\\users\\user\\anaconda3\\envs\\nlp\\lib\\site-packages\\pandas\\core\\internals\\construction.py\u001b[0m in \u001b[0;36msanitize_index\u001b[1;34m(data, index)\u001b[0m\n\u001b[0;32m    750\u001b[0m     \u001b[1;32mif\u001b[0m \u001b[0mlen\u001b[0m\u001b[1;33m(\u001b[0m\u001b[0mdata\u001b[0m\u001b[1;33m)\u001b[0m \u001b[1;33m!=\u001b[0m \u001b[0mlen\u001b[0m\u001b[1;33m(\u001b[0m\u001b[0mindex\u001b[0m\u001b[1;33m)\u001b[0m\u001b[1;33m:\u001b[0m\u001b[1;33m\u001b[0m\u001b[1;33m\u001b[0m\u001b[0m\n\u001b[0;32m    751\u001b[0m         raise ValueError(\n\u001b[1;32m--> 752\u001b[1;33m             \u001b[1;34m\"Length of values \"\u001b[0m\u001b[1;33m\u001b[0m\u001b[1;33m\u001b[0m\u001b[0m\n\u001b[0m\u001b[0;32m    753\u001b[0m             \u001b[1;34mf\"({len(data)}) \"\u001b[0m\u001b[1;33m\u001b[0m\u001b[1;33m\u001b[0m\u001b[0m\n\u001b[0;32m    754\u001b[0m             \u001b[1;34m\"does not match length of index \"\u001b[0m\u001b[1;33m\u001b[0m\u001b[1;33m\u001b[0m\u001b[0m\n",
      "\u001b[1;31mValueError\u001b[0m: Length of values (1472) does not match length of index (1005)"
     ]
    }
   ],
   "source": [
    "# starting interpolation and downsampling the data\n",
    "fault_time_inside_main_data = []\n",
    "\n",
    "# dir_path = \"../phm_etching_01M01-02/M01_Groups/\"\n",
    "# export_path = \"../phm_etching_01M01-02/M01_Groups_same_length/TotalFault_\"\n",
    "\n",
    "dir_path = \"../phm_etching_01M01-02/M02_Groups_recipe_67/\"\n",
    "export_path = \"../phm_etching_01M01-02/M02_Groups_recipe_67_same_length/TotalFault_\"\n",
    "\n",
    "\n",
    "for fileIndex, file in tqdm(enumerate(os.listdir(dir_path))):\n",
    "    situation_name = \"Healthy\"\n",
    "    total_fault = 0\n",
    "    \n",
    "#     if fileIndex == 1:\n",
    "#         fig, axs = plt.subplots(2, 1, figsize=(20, 5))\n",
    "#         axs[0].plot(data_temp.loc[:, \"recipe\"])\n",
    "#         axs[1].plot(data_export.loc[:, \"recipe\"])\n",
    "#         plt.show()\n",
    "#         break\n",
    "    \n",
    "    data_temp = pd.read_csv(dir_path + file)\n",
    "    \n",
    "    data_export = pd.DataFrame({\n",
    "        \"time\": signal.resample(data_temp.loc[:, \"time\"], num=most_frequent_length),\n",
    "        \"Tool\": [data_temp.loc[0, \"Tool\"] for i in range(most_frequent_length)],\n",
    "        \"Lot-runnum\": [data_temp.loc[0, \"Lot-runnum\"] for i in range(most_frequent_length)]\n",
    "    })\n",
    "    \n",
    "    # resampling for all columns\n",
    "    Lot_runnum = str(data_temp.loc[0, \"Lot-runnum\"])\n",
    "    for column in data_temp.columns:\n",
    "        if column in [\"time\", \"Tool\", \"Lot-runnum\"]:\n",
    "            continue\n",
    "        data_export[column] = signal.resample(data_temp.loc[:, column], num=most_frequent_length)\n",
    "        \n",
    "    # check which fault type is the data\n",
    "    for faultIndex, faultTime in enumerate(fualt_time_list):\n",
    "        if faultTime in data_temp.loc[:, \"time\"].tolist():\n",
    "            total_fault += 1\n",
    "            fault_time_inside_main_data.append(faultTime)\n",
    "            if situation_name == \"Healthy\":\n",
    "                situation_name = fault_name_list[faultIndex].replace(\" \", \"\")\n",
    "            else:\n",
    "                situation_name += (\"-\" + fault_name_list[faultIndex].replace(\" \", \"\"))\n",
    "            \n",
    "    data_export.to_csv(export_path + str(total_fault)\\\n",
    "                       + \"_\" + situation_name + \"_Lot_runnum_\" + Lot_runnum +\".csv\",\n",
    "                      index=None, encoding=\"utf8\")\n",
    "    \n",
    "temp = fualt_time_list.copy()\n",
    "for faultTime in fault_time_inside_main_data:\n",
    "    temp.remove(faultTime)\n",
    "    \n",
    "print(\"Fault Time not inside main training data:\", len(temp), temp)"
   ]
  }
 ],
 "metadata": {
  "kernelspec": {
   "display_name": "Python 3",
   "language": "python",
   "name": "python3"
  },
  "language_info": {
   "codemirror_mode": {
    "name": "ipython",
    "version": 3
   },
   "file_extension": ".py",
   "mimetype": "text/x-python",
   "name": "python",
   "nbconvert_exporter": "python",
   "pygments_lexer": "ipython3",
   "version": "3.7.10"
  },
  "toc": {
   "base_numbering": 1,
   "nav_menu": {},
   "number_sections": true,
   "sideBar": true,
   "skip_h1_title": false,
   "title_cell": "Table of Contents",
   "title_sidebar": "Contents",
   "toc_cell": false,
   "toc_position": {},
   "toc_section_display": true,
   "toc_window_display": false
  },
  "varInspector": {
   "cols": {
    "lenName": 16,
    "lenType": 16,
    "lenVar": 40
   },
   "kernels_config": {
    "python": {
     "delete_cmd_postfix": "",
     "delete_cmd_prefix": "del ",
     "library": "var_list.py",
     "varRefreshCmd": "print(var_dic_list())"
    },
    "r": {
     "delete_cmd_postfix": ") ",
     "delete_cmd_prefix": "rm(",
     "library": "var_list.r",
     "varRefreshCmd": "cat(var_dic_list()) "
    }
   },
   "types_to_exclude": [
    "module",
    "function",
    "builtin_function_or_method",
    "instance",
    "_Feature"
   ],
   "window_display": false
  }
 },
 "nbformat": 4,
 "nbformat_minor": 5
}
