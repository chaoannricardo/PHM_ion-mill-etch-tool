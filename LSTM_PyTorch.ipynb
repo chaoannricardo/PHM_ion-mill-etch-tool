{
 "cells": [
  {
   "cell_type": "markdown",
   "id": "f5804ce5",
   "metadata": {},
   "source": [
    "# Prepare dataset"
   ]
  },
  {
   "cell_type": "code",
   "execution_count": 1,
   "id": "c2d82ca3",
   "metadata": {},
   "outputs": [],
   "source": [
    "from tqdm import tqdm\n",
    "import numpy as np\n",
    "import os\n",
    "import pandas as pd\n",
    "\n",
    "# local path\n",
    "# FAULT_DATA_DIR = \"D:\\\\Windows_Storage\\\\Storage\\\\Github\\\\phm_etching_01M01-02\\\\M02_Groups_same_length\\\\fault\"\n",
    "# HEALTHY_DATA_DIR = \"D:\\\\Windows_Storage\\\\Storage\\\\Github\\\\phm_etching_01M01-02\\\\M02_Groups_same_length\\\\healthy\"\n",
    "\n",
    "# server path\n",
    "FAULT_DATA_DIR = \"C:\\\\Users\\\\User\\\\Desktop\\\\Ricardo\\\\phm_etching_01M01-02\\\\M02_Groups_same_length\\\\fault\"\n",
    "HEALTHY_DATA_DIR = \"C:\\\\Users\\\\User\\Desktop\\\\Ricardo\\\\phm_etching_01M01-02\\\\M02_Groups_same_length\\\\healthy\"\n",
    "\n",
    "HEALTHY_DATA_SAMPLE_NUM = 10\n",
    "\n",
    "from sklearn.preprocessing import MinMaxScaler\n",
    "from torch.utils.data import TensorDataset, DataLoader\n",
    "from torch.autograd import Variable\n",
    "from tqdm import tqdm\n",
    "import numpy as np\n",
    "import os\n",
    "import pandas as pd\n",
    "import torch\n",
    "import torch.nn as nn"
   ]
  },
  {
   "cell_type": "code",
   "execution_count": 2,
   "id": "f0b4d28f",
   "metadata": {},
   "outputs": [
    {
     "name": "stderr",
     "output_type": "stream",
     "text": [
      "100%|██████████| 25/25 [00:00<00:00, 92.33it/s] \n",
      "100%|██████████| 10/10 [00:00<00:00, 50.45it/s]\n"
     ]
    },
    {
     "data": {
      "text/plain": [
       "<bound method DataFrame.replace of                time   Tool     Lot-runnum  stage     Lot      runnum  recipe  \\\n",
       "0      1.805567e+07  01M02  9174-11470110    1.0  9174.0  11470110.0    67.0   \n",
       "1      1.805204e+07  01M02  9174-11470110    1.0  9174.0  11470110.0    67.0   \n",
       "2      1.805320e+07  01M02  9174-11470110    1.0  9174.0  11470110.0    67.0   \n",
       "3      1.805252e+07  01M02  9174-11470110    1.0  9174.0  11470110.0    67.0   \n",
       "4      1.805302e+07  01M02  9174-11470110    1.0  9174.0  11470110.0    67.0   \n",
       "...             ...    ...            ...    ...     ...         ...     ...   \n",
       "35170  3.176944e+07  01M02  2137-12334653   88.0  2137.0  12334653.0    68.0   \n",
       "35171  3.176964e+07  01M02  2137-12334653   88.0  2137.0  12334653.0    68.0   \n",
       "35172  3.176986e+07  01M02  2137-12334653   88.0  2137.0  12334653.0    68.0   \n",
       "35173  3.176953e+07  01M02  2137-12334653   88.0  2137.0  12334653.0    68.0   \n",
       "35174  3.176858e+07  01M02  2137-12334653   88.0  2137.0  12334653.0    68.0   \n",
       "\n",
       "       recipe_step  IONGAUGEPRESSURE  ETCHBEAMVOLTAGE  ...  ROTATIONSPEED  \\\n",
       "0        15.763975         -0.079157        -0.987490  ...      -0.013207   \n",
       "1        -2.767114         -0.079426        -0.929844  ...      -0.013207   \n",
       "2         3.070952         -0.079314        -0.987446  ...      -0.013207   \n",
       "3        -0.415298         -0.079511        -0.929095  ...      -0.013207   \n",
       "4         2.072330         -0.079311        -0.988140  ...      -0.013207   \n",
       "...            ...               ...              ...  ...            ...   \n",
       "35170    12.099951         -0.077194        -0.947018  ...      -0.013207   \n",
       "35171    13.327464         -0.077665        -0.962857  ...      -0.013207   \n",
       "35172    14.690859         -0.077876        -0.971685  ...      -0.013207   \n",
       "35173    12.626304         -0.077674        -0.957290  ...      -0.013207   \n",
       "35174     6.700811         -0.078047        -0.946681  ...      -0.013207   \n",
       "\n",
       "       ACTUALROTATIONANGLE  FIXTURESHUTTERPOSITION  ETCHSOURCEUSAGE  \\\n",
       "0                -0.116266                0.017410         0.010548   \n",
       "1                -0.128505               -0.020685         0.008788   \n",
       "2                -0.116468                0.023682         0.009343   \n",
       "3                -0.128310               -0.026486         0.009011   \n",
       "4                -0.116657                0.029163         0.009248   \n",
       "...                    ...                     ...              ...   \n",
       "35170            -0.122455                0.005070        -1.316349   \n",
       "35171            -0.122455               -0.001525        -1.316208   \n",
       "35172            -0.122455               -0.005978        -1.316051   \n",
       "35173            -0.122455                0.000864        -1.316289   \n",
       "35174            -0.122455                0.006763        -1.316970   \n",
       "\n",
       "       ETCHAUXSOURCETIMER  ETCHAUX2SOURCETIMER  ACTUALSTEPDURATION  \\\n",
       "0                0.209932             0.408897            2.674602   \n",
       "1                0.207961             0.406849            4.380241   \n",
       "2                0.208582             0.407494            3.852519   \n",
       "3                0.208211             0.407109            4.162412   \n",
       "4                0.208476             0.407384            3.944816   \n",
       "...                   ...                  ...                 ...   \n",
       "35170           -1.281308            -1.141432           -0.668387   \n",
       "35171           -1.281150            -1.141268           -0.677748   \n",
       "35172           -1.280974            -1.141086           -0.686933   \n",
       "35173           -1.281240            -1.141362           -0.672954   \n",
       "35174           -1.282003            -1.142155           -0.636830   \n",
       "\n",
       "       TTF_FlowCool Pressure Dropped Below Limit  \\\n",
       "0                                   7.170246e+03   \n",
       "1                                   4.603761e+03   \n",
       "2                                   5.391843e+03   \n",
       "3                                   4.910219e+03   \n",
       "4                                   5.233780e+03   \n",
       "...                                          ...   \n",
       "35170                               3.567602e+06   \n",
       "35171                               3.567403e+06   \n",
       "35172                               3.567183e+06   \n",
       "35173                               3.567512e+06   \n",
       "35174                               3.568460e+06   \n",
       "\n",
       "       TTF_Flowcool Pressure Too High Check Flowcool Pump  TTF_Flowcool leak  \n",
       "0                                           3.849670e+06        2.966523e+04  \n",
       "1                                           3.853300e+06        3.216258e+03  \n",
       "2                                           3.852144e+06        1.156123e+04  \n",
       "3                                           3.852819e+06        6.548859e+03  \n",
       "4                                           3.852320e+06        1.011716e+04  \n",
       "...                                                  ...                 ...  \n",
       "35170                                                NaN        3.570002e+06  \n",
       "35171                                                NaN        3.569803e+06  \n",
       "35172                                                NaN        3.569583e+06  \n",
       "35173                                                NaN        3.569912e+06  \n",
       "35174                                                NaN        3.570860e+06  \n",
       "\n",
       "[35175 rows x 28 columns]>"
      ]
     },
     "execution_count": 2,
     "metadata": {},
     "output_type": "execute_result"
    }
   ],
   "source": [
    "os.chdir(FAULT_DATA_DIR)\n",
    "\n",
    "# read in fault data\n",
    "for fileIndex, file in enumerate(tqdm(os.listdir())):\n",
    "    if fileIndex == 0:\n",
    "        data_all = pd.read_csv(file, encoding=\"utf8\")\n",
    "    else:\n",
    "        data_import = pd.read_csv(file, encoding=\"utf8\")\n",
    "        data_all = data_all.append(data_import, ignore_index = True)\n",
    "        \n",
    "os.chdir(HEALTHY_DATA_DIR)\n",
    "healthy_file_list = os.listdir()\n",
    "np.random.shuffle(healthy_file_list)\n",
    "\n",
    "for fileIndex, file in enumerate(tqdm(healthy_file_list[:HEALTHY_DATA_SAMPLE_NUM])):\n",
    "    data_import = pd.read_csv(file, encoding=\"utf8\")\n",
    "    data_all = data_all.append(data_import, ignore_index = True)\n",
    "    \n",
    "data_all.replace"
   ]
  },
  {
   "cell_type": "code",
   "execution_count": 3,
   "id": "5f407f3f",
   "metadata": {},
   "outputs": [],
   "source": [
    "# configurations\n",
    "SEQ_LENGTH = 500"
   ]
  },
  {
   "cell_type": "code",
   "execution_count": 4,
   "id": "3249183b",
   "metadata": {},
   "outputs": [],
   "source": [
    "# create datasets with given sequence length\n",
    "def sliding_windows(data, seq_length, selected_column):\n",
    "    x = []\n",
    "    y = []\n",
    "    \n",
    "    # calculate max min for each column\n",
    "    data_temp = data.drop(columns=['time', 'Tool', 'Lot', 'Lot-runnum'])\n",
    "    \n",
    "    column_list = data_temp.columns.tolist()\n",
    "    max_value_list = data_temp.max().tolist()\n",
    "    min_value_list = data_temp.min().tolist()\n",
    "    \n",
    "    # normalize the data\n",
    "    for column in data.columns:\n",
    "        if column in ['time', 'Tool', 'Lot', 'Lot-runnum']:\n",
    "            continue\n",
    "            \n",
    "        # x ′ = ( x − x m i n ) / ( x m a x − x m i n )\n",
    "        column_index = column_list.index(column)\n",
    "        data[column] = data[column].apply(lambda x: \\\n",
    "                                          (x - min_value_list[column_index]) / (max_value_list[column_index] - \\\n",
    "                                                                   min_value_list[column_index]))\n",
    "        \n",
    "#     print(data.head(5))\n",
    "\n",
    "    for i in tqdm(range(len(data)-seq_length-1)):\n",
    "        # create x and y \n",
    "        data_x = data.iloc[i:(i+seq_length), :]\n",
    "        data_y = data.loc[[(i+seq_length)], [selected_column]]\n",
    "        \n",
    "        # skip if contains for than two Lot-runnum and np.nan appears in y\n",
    "        if data_x[\"Lot-runnum\"].nunique() > 1:\n",
    "            continue\n",
    "            \n",
    "        # drop nan value\n",
    "        if data_y[selected_column].isnull().values.any() or\\\n",
    "        data_x.isnull().values.any() :\n",
    "            continue\n",
    "        \n",
    "        # drop unneccessary columns\n",
    "        data_x.drop(columns=['time', 'Tool', 'Lot', 'TTF_FlowCool Pressure Dropped Below Limit',\n",
    "       'TTF_Flowcool Pressure Too High Check Flowcool Pump', 'TTF_Flowcool leak', 'Lot-runnum'],\n",
    "                     inplace=True)\n",
    "        \n",
    "        x.append(data_x)\n",
    "        y.append(data_y)\n",
    "        \n",
    "\n",
    "    return np.array(x),np.array(y)"
   ]
  },
  {
   "cell_type": "code",
   "execution_count": 5,
   "id": "573c63c2",
   "metadata": {},
   "outputs": [],
   "source": [
    "class LSTM(nn.Module):\n",
    "\n",
    "    def __init__(self, num_classes, input_size, hidden_size, num_layers):\n",
    "        super(LSTM, self).__init__()\n",
    "        \n",
    "        self.num_classes = num_classes\n",
    "        self.num_layers = num_layers\n",
    "        self.input_size = input_size\n",
    "        self.hidden_size = hidden_size\n",
    "        self.seq_length = SEQ_LENGTH\n",
    "        \n",
    "        self.lstm = nn.LSTM(input_size=input_size, hidden_size=hidden_size,\n",
    "                            num_layers=num_layers, batch_first=True)\n",
    "        \n",
    "        self.fc = nn.Linear(hidden_size, num_classes)\n",
    "\n",
    "    def forward(self, x):\n",
    "        h_0 = Variable(torch.zeros(\n",
    "            self.num_layers, x.size(0), self.hidden_size))\n",
    "        \n",
    "        c_0 = Variable(torch.zeros(\n",
    "            self.num_layers, x.size(0), self.hidden_size))\n",
    "        \n",
    "        # Propagate input through LSTM\n",
    "        ula, (h_out, _) = self.lstm(x, (h_0, c_0))\n",
    "        \n",
    "        h_out = h_out.view(-1, self.hidden_size)\n",
    "        \n",
    "        out = self.fc(h_out)\n",
    "        \n",
    "        return out"
   ]
  },
  {
   "cell_type": "code",
   "execution_count": 6,
   "id": "099fd521",
   "metadata": {},
   "outputs": [
    {
     "name": "stdout",
     "output_type": "stream",
     "text": [
      "True\n"
     ]
    }
   ],
   "source": [
    "# activate cuda\n",
    "\n",
    "# torch.cuda.is_available() checks and returns a Boolean True if a GPU is available, else it'll return False\n",
    "is_cuda = torch.cuda.is_available()\n",
    "print(is_cuda)\n",
    "\n",
    "# If we have a GPU available, we'll set our device to GPU. We'll use this device variable later in our code.\n",
    "if is_cuda:\n",
    "    device = torch.device(\"cuda\")\n",
    "else:\n",
    "    device = torch.device(\"cpu\")"
   ]
  },
  {
   "cell_type": "markdown",
   "id": "4bc38c03",
   "metadata": {},
   "source": [
    "# TTF_FlowCool Pressure Dropped Below Limit"
   ]
  },
  {
   "cell_type": "code",
   "execution_count": 7,
   "id": "305712aa",
   "metadata": {},
   "outputs": [
    {
     "name": "stderr",
     "output_type": "stream",
     "text": [
      "  0%|          | 0/34674 [00:00<?, ?it/s]c:\\users\\user\\anaconda3\\envs\\nlp\\lib\\site-packages\\pandas\\core\\frame.py:4315: SettingWithCopyWarning: \n",
      "A value is trying to be set on a copy of a slice from a DataFrame\n",
      "\n",
      "See the caveats in the documentation: https://pandas.pydata.org/pandas-docs/stable/user_guide/indexing.html#returning-a-view-versus-a-copy\n",
      "  errors=errors,\n",
      "100%|██████████| 34674/34674 [00:38<00:00, 907.14it/s] \n"
     ]
    },
    {
     "name": "stdout",
     "output_type": "stream",
     "text": [
      "(10625, 500, 21) (10625, 1)\n"
     ]
    }
   ],
   "source": [
    "SELECTED_COLUMN = 'TTF_FlowCool Pressure Dropped Below Limit'\n",
    "x, y = sliding_windows(data_all, SEQ_LENGTH, SELECTED_COLUMN)\n",
    "y = np.squeeze(y, axis=2)\n",
    "\n",
    "print(x.shape, y.shape)"
   ]
  },
  {
   "cell_type": "code",
   "execution_count": 8,
   "id": "bd445ae3",
   "metadata": {},
   "outputs": [
    {
     "name": "stdout",
     "output_type": "stream",
     "text": [
      "torch.Size([7118, 500, 21]) torch.Size([7118, 1]) \n",
      " torch.Size([3507, 500, 21]) torch.Size([3507, 1])\n"
     ]
    }
   ],
   "source": [
    "train_size = int(len(y) * 0.67)\n",
    "test_size = len(y) - train_size\n",
    "\n",
    "dataX = Variable(torch.Tensor(np.array(x)))\n",
    "dataY = Variable(torch.Tensor(np.array(y)))\n",
    "\n",
    "trainX = Variable(torch.Tensor(np.array(x[0:train_size])))\n",
    "trainY = Variable(torch.Tensor(np.array(y[0:train_size])))\n",
    "\n",
    "testX = Variable(torch.Tensor(np.array(x[train_size:len(x)])))\n",
    "testY = Variable(torch.Tensor(np.array(y[train_size:len(y)])))\n",
    "\n",
    "\n",
    "print(trainX.shape, trainY.shape, \"\\n\", testX.shape, testY.shape)"
   ]
  },
  {
   "cell_type": "code",
   "execution_count": null,
   "id": "b5c93985",
   "metadata": {},
   "outputs": [
    {
     "name": "stdout",
     "output_type": "stream",
     "text": [
      "Epoch: 0, loss: 0.56787\n",
      "Epoch: 100, loss: 0.04950\n",
      "Epoch: 200, loss: 0.03449\n",
      "Epoch: 300, loss: 0.01302\n",
      "Epoch: 400, loss: 0.00789\n",
      "Epoch: 500, loss: 0.00671\n",
      "Epoch: 600, loss: 0.00629\n",
      "Epoch: 700, loss: 0.00607\n",
      "Epoch: 800, loss: 0.00593\n",
      "Epoch: 900, loss: 0.00582\n",
      "Epoch: 1000, loss: 0.00573\n",
      "Epoch: 1100, loss: 0.00565\n",
      "Epoch: 1200, loss: 0.00555\n",
      "Epoch: 1300, loss: 0.00544\n",
      "Epoch: 1400, loss: 0.00530\n",
      "Epoch: 1500, loss: 0.00517\n"
     ]
    }
   ],
   "source": [
    "num_epochs = 2000\n",
    "learning_rate = 0.01\n",
    "\n",
    "input_size = 21\n",
    "hidden_size = 2\n",
    "num_layers = 1\n",
    "\n",
    "num_classes = 1\n",
    "\n",
    "lstm = LSTM(num_classes, input_size, hidden_size, num_layers)\n",
    "\n",
    "criterion = torch.nn.MSELoss()    # mean-squared error for regression\n",
    "optimizer = torch.optim.Adam(lstm.parameters(), lr=learning_rate)\n",
    "#optimizer = torch.optim.SGD(lstm.parameters(), lr=learning_rate)\n",
    "\n",
    "# Train the model\n",
    "for epoch in range(num_epochs):\n",
    "    outputs = lstm(trainX)\n",
    "    optimizer.zero_grad()\n",
    "    \n",
    "    # obtain the loss function\n",
    "    loss = criterion(outputs, trainY)\n",
    "    \n",
    "#     print(outputs)\n",
    "#     print(trainY)\n",
    "    \n",
    "    loss.backward()\n",
    "    \n",
    "    optimizer.step()\n",
    "    if epoch % 100 == 0:\n",
    "        print(\"Epoch: %d, loss: %1.5f\" % (epoch, loss.item()))\n",
    "        "
   ]
  },
  {
   "cell_type": "code",
   "execution_count": null,
   "id": "9ced844b",
   "metadata": {},
   "outputs": [],
   "source": [
    "# prediction\n",
    "\n",
    "lstm.eval()\n",
    "train_predict = lstm(dataX)\n",
    "\n",
    "data_predict = train_predict.data.numpy()\n",
    "dataY_plot = dataY.data.numpy()\n",
    "\n",
    "data_predict = sc.inverse_transform(data_predict)\n",
    "dataY_plot = sc.inverse_transform(dataY_plot)\n",
    "\n",
    "plt.axvline(x=train_size, c='r', linestyle='--')\n",
    "\n",
    "plt.plot(dataY_plot)\n",
    "plt.plot(data_predict)\n",
    "plt.suptitle('Time-Series Prediction')\n",
    "plt.show()"
   ]
  }
 ],
 "metadata": {
  "kernelspec": {
   "display_name": "Python 3",
   "language": "python",
   "name": "python3"
  },
  "language_info": {
   "codemirror_mode": {
    "name": "ipython",
    "version": 3
   },
   "file_extension": ".py",
   "mimetype": "text/x-python",
   "name": "python",
   "nbconvert_exporter": "python",
   "pygments_lexer": "ipython3",
   "version": "3.7.10"
  },
  "toc": {
   "base_numbering": 1,
   "nav_menu": {},
   "number_sections": true,
   "sideBar": true,
   "skip_h1_title": false,
   "title_cell": "Table of Contents",
   "title_sidebar": "Contents",
   "toc_cell": false,
   "toc_position": {},
   "toc_section_display": true,
   "toc_window_display": false
  },
  "varInspector": {
   "cols": {
    "lenName": 16,
    "lenType": 16,
    "lenVar": 40
   },
   "kernels_config": {
    "python": {
     "delete_cmd_postfix": "",
     "delete_cmd_prefix": "del ",
     "library": "var_list.py",
     "varRefreshCmd": "print(var_dic_list())"
    },
    "r": {
     "delete_cmd_postfix": ") ",
     "delete_cmd_prefix": "rm(",
     "library": "var_list.r",
     "varRefreshCmd": "cat(var_dic_list()) "
    }
   },
   "types_to_exclude": [
    "module",
    "function",
    "builtin_function_or_method",
    "instance",
    "_Feature"
   ],
   "window_display": false
  }
 },
 "nbformat": 4,
 "nbformat_minor": 5
}
