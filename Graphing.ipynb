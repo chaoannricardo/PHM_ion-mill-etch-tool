{
 "cells": [
  {
   "cell_type": "code",
   "execution_count": 8,
   "id": "dc8048d2-6cbc-47cd-b0ce-13d71dcfd399",
   "metadata": {
    "ExecuteTime": {
     "start_time": "2021-06-08T03:29:51.889Z"
    }
   },
   "outputs": [],
   "source": [
    "from tqdm import tqdm\n",
    "import matplotlib.pyplot as plt\n",
    "import numpy as np\n",
    "import pandas as pd"
   ]
  },
  {
   "cell_type": "code",
   "execution_count": null,
   "id": "868db864",
   "metadata": {},
   "outputs": [],
   "source": [
    "M01_DC_train = pd.read_csv(\"../phm_etching_01M01-02/01_M01_DC_train.csv\", encoding=\"utf8\")\n",
    "M01_DC_train_ttf = pd.read_csv(\"../phm_etching_01M01-02/01_M01_DC_train_ttf.csv\", encoding=\"utf8\")"
   ]
  },
  {
   "cell_type": "code",
   "execution_count": 2140,
   "id": "d35dd5d0",
   "metadata": {
    "ExecuteTime": {
     "end_time": "2021-06-08T03:28:31.654016Z",
     "start_time": "2021-06-08T03:28:26.349819Z"
    }
   },
   "outputs": [
    {
     "name": "stdout",
     "output_type": "stream",
     "text": [
      "Index(['time', 'Tool', 'stage', 'Lot', 'runnum', 'recipe', 'recipe_step',\n",
      "       'IONGAUGEPRESSURE', 'ETCHBEAMVOLTAGE', 'ETCHBEAMCURRENT',\n",
      "       'ETCHSUPPRESSORVOLTAGE', 'ETCHSUPPRESSORCURRENT', 'FLOWCOOLFLOWRATE',\n",
      "       'FLOWCOOLPRESSURE', 'ETCHGASCHANNEL1READBACK', 'ETCHPBNGASREADBACK',\n",
      "       'FIXTURETILTANGLE', 'ROTATIONSPEED', 'ACTUALROTATIONANGLE',\n",
      "       'FIXTURESHUTTERPOSITION', 'ETCHSOURCEUSAGE', 'ETCHAUXSOURCETIMER',\n",
      "       'ETCHAUX2SOURCETIMER', 'ACTUALSTEPDURATION'],\n",
      "      dtype='object')\n",
      "Index(['time', 'TTF_FlowCool Pressure Dropped Below Limit',\n",
      "       'TTF_Flowcool Pressure Too High Check Flowcool Pump',\n",
      "       'TTF_Flowcool leak'],\n",
      "      dtype='object')\n"
     ]
    },
    {
     "name": "stderr",
     "output_type": "stream",
     "text": [
      "c:\\users\\user\\anaconda3\\envs\\monpa\\lib\\site-packages\\matplotlib\\textpath.py:65: RuntimeWarning: Glyph 8722 missing from current font.\n",
      "  font.set_text(s, 0.0, flags=LOAD_NO_HINTING)\n"
     ]
    }
   ],
   "source": [
    "# https://matplotlib.org/stable/api/_as_gen/matplotlib.pyplot.subplot.html\n",
    "# https://matplotlib.org/stable/gallery/subplots_axes_and_figures/subplots_demo.html\n",
    "# https://stackoverflow.com/questions/14770735/how-do-i-change-the-figure-size-with-subplots\n",
    "print(M01_DC_train.columns)\n",
    "print(M01_DC_train_ttf.columns)\n",
    "\n",
    "fig, axs = plt.subplots(17, 1, figsize=(150,50))\n",
    "\n",
    "axs[0].plot(M01_DC_train.loc[:, 'IONGAUGEPRESSURE'])\n",
    "axs[0].set_title(\"IONGAUGEPRESSURE\")\n",
    "axs[1].plot(M01_DC_train.loc[:, 'ETCHBEAMVOLTAGE'])\n",
    "axs[1].set_title('ETCHBEAMVOLTAGE')\n",
    "axs[2].plot(M01_DC_train.loc[:, 'ETCHBEAMCURRENT'])\n",
    "axs[2].set_title('ETCHBEAMCURRENT')\n",
    "axs[3].plot(M01_DC_train.loc[:, 'ETCHSUPPRESSORVOLTAGE'])\n",
    "axs[3].set_title('ETCHSUPPRESSORVOLTAGE')\n",
    "axs[4].plot(M01_DC_train.loc[:, 'ETCHSUPPRESSORCURRENT'])\n",
    "axs[4].set_title('ETCHSUPPRESSORCURRENT')\n",
    "axs[5].plot(M01_DC_train.loc[:, 'FLOWCOOLFLOWRATE'])\n",
    "axs[5].set_title('FLOWCOOLFLOWRATE')\n",
    "axs[6].plot(M01_DC_train.loc[:, 'FLOWCOOLPRESSURE'])\n",
    "axs[6].set_title('FLOWCOOLPRESSURE')\n",
    "axs[7].plot(M01_DC_train.loc[:, 'ETCHGASCHANNEL1READBACK'])\n",
    "axs[7].set_title('ETCHGASCHANNEL1READBACK')\n",
    "axs[8].plot(M01_DC_train.loc[:, 'ETCHPBNGASREADBACK'])\n",
    "axs[8].set_title('ETCHPBNGASREADBACK')\n",
    "axs[9].plot(M01_DC_train.loc[:, 'FIXTURETILTANGLE'])\n",
    "axs[9].set_title('FIXTURETILTANGLE')\n",
    "axs[10].plot(M01_DC_train.loc[:, 'ROTATIONSPEED'])\n",
    "axs[10].set_title('ROTATIONSPEED')\n",
    "axs[11].plot(M01_DC_train.loc[:, 'ACTUALROTATIONANGLE'])\n",
    "axs[11].set_title('ACTUALROTATIONANGLE')\n",
    "axs[12].plot(M01_DC_train.loc[:, 'FIXTURESHUTTERPOSITION'])\n",
    "axs[12].set_title('FIXTURESHUTTERPOSITION')\n",
    "axs[13].plot(M01_DC_train.loc[:, 'ETCHSOURCEUSAGE'])\n",
    "axs[13].set_title('ETCHSOURCEUSAGE')\n",
    "axs[14].plot(M01_DC_train.loc[:, 'ETCHAUXSOURCETIMER'])\n",
    "axs[14].set_title('ETCHAUXSOURCETIMER')\n",
    "axs[15].plot(M01_DC_train.loc[:, 'ETCHAUX2SOURCETIMER'])\n",
    "axs[15].set_title('ETCHAUX2SOURCETIMER')\n",
    "axs[16].plot(M01_DC_train.loc[:, 'ACTUALSTEPDURATION'])\n",
    "axs[16].set_title('ACTUALSTEPDURATION')\n",
    "\n",
    "plt.savefig('./Overview.svg', format='svg', bbox_inches=\"tight\")"
   ]
  },
  {
   "cell_type": "markdown",
   "id": "740dd53e",
   "metadata": {},
   "source": [
    "# Segmenting Sensor Data before Failure"
   ]
  },
  {
   "cell_type": "code",
   "execution_count": 24,
   "id": "e0868f83",
   "metadata": {},
   "outputs": [
    {
     "name": "stderr",
     "output_type": "stream",
     "text": [
      "100%|██████████| 16/16 [00:29<00:00,  1.84s/it]\n"
     ]
    }
   ],
   "source": [
    "# parameters\n",
    "SEGMENTATION_RANGE = 100000\n",
    "\n",
    "faultTime_FlowcoolPressureTooHighCheckFlowcoolPump = [12633978, \n",
    "                                                      18541016, 26098946, 39525730, 40564654]\n",
    "faultTime_FlowCoolPressureDroppedBelowLimit = [6533184, 8286500, 8627086, 8697338, 8971400, 12828066,\n",
    "                   14026692, 15827488, 31185146, 40082846, 20174938]\n",
    "\n",
    "\n",
    "file_num = 0\n",
    "for faultTimeIndex, faultTime in enumerate(tqdm(faultTime_FlowcoolPressureTooHighCheckFlowcoolPump + \\\n",
    "faultTime_FlowCoolPressureDroppedBelowLimit)):\n",
    "    \n",
    "    # reset index when dealing with second list\n",
    "    if faultTimeIndex == len(faultTime_FlowcoolPressureTooHighCheckFlowcoolPump):\n",
    "        file_num = 0\n",
    "        \n",
    "    timeIndex = M01_DC_train.loc[:, \"time\"].tolist().index(faultTime)\n",
    "    data_temp = M01_DC_train.iloc[timeIndex - SEGMENTATION_RANGE: timeIndex + 1, :]\n",
    "    \n",
    "    # export data\n",
    "    if faultTime in faultTime_FlowcoolPressureTooHighCheckFlowcoolPump:\n",
    "        data_temp.to_csv(\"../phm_etching_01M01-02/M01_DC_train_FlowcoolPressureTooHighCheckFlowcoolPump_\" + \\\n",
    "                         str(file_num) + \".csv\", index=None, encoding=\"utf8\")\n",
    "        file_num += 1\n",
    "    else:\n",
    "        data_temp.to_csv(\"../phm_etching_01M01-02/M01_DC_train_FlowCoolPressureDroppedBelowLimit_\" + \\\n",
    "                         str(file_num) + \".csv\", index=None, encoding=\"utf8\")\n",
    "        file_num += 1\n",
    "        "
   ]
  }
 ],
 "metadata": {
  "kernelspec": {
   "display_name": "Python 3",
   "language": "python",
   "name": "python3"
  },
  "language_info": {
   "codemirror_mode": {
    "name": "ipython",
    "version": 3
   },
   "file_extension": ".py",
   "mimetype": "text/x-python",
   "name": "python",
   "nbconvert_exporter": "python",
   "pygments_lexer": "ipython3",
   "version": "3.7.10"
  },
  "toc": {
   "base_numbering": 1,
   "nav_menu": {},
   "number_sections": true,
   "sideBar": true,
   "skip_h1_title": false,
   "title_cell": "Table of Contents",
   "title_sidebar": "Contents",
   "toc_cell": false,
   "toc_position": {},
   "toc_section_display": true,
   "toc_window_display": false
  },
  "varInspector": {
   "cols": {
    "lenName": 16,
    "lenType": 16,
    "lenVar": 40
   },
   "kernels_config": {
    "python": {
     "delete_cmd_postfix": "",
     "delete_cmd_prefix": "del ",
     "library": "var_list.py",
     "varRefreshCmd": "print(var_dic_list())"
    },
    "r": {
     "delete_cmd_postfix": ") ",
     "delete_cmd_prefix": "rm(",
     "library": "var_list.r",
     "varRefreshCmd": "cat(var_dic_list()) "
    }
   },
   "oldHeight": 122.84136400000001,
   "position": {
    "height": "40px",
    "left": "1196.38px",
    "right": "20px",
    "top": "6.9517px",
    "width": "349.972px"
   },
   "types_to_exclude": [
    "module",
    "function",
    "builtin_function_or_method",
    "instance",
    "_Feature"
   ],
   "varInspector_section_display": "none",
   "window_display": true
  }
 },
 "nbformat": 4,
 "nbformat_minor": 5
}
